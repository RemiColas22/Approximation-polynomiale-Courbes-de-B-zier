{
 "cells": [
  {
   "cell_type": "markdown",
   "metadata": {},
   "source": [
    "En cas de problème particulier (lors de l'execution d'une cellule), on pourra relancer le noyau jupyter.\n",
    "\n",
    "Vos réponses (codes ou réponses) doivent être placées entre les balises :`VOTRE CODE ICI` ou \"VOTRE REPONSE ICI\", N'oubliez pas d'indiquer vos noms et prénoms"
   ]
  },
  {
   "cell_type": "code",
   "execution_count": 18,
   "metadata": {},
   "outputs": [],
   "source": [
    "NOMS et PRENOMS = \"LE BOUEDEC Raphaël et Colas Rémi\""
   ]
  },
  {
   "cell_type": "markdown",
   "metadata": {},
   "source": [
    "---"
   ]
  },
  {
   "cell_type": "markdown",
   "metadata": {
    "deletable": false,
    "editable": false,
    "nbgrader": {
     "cell_type": "markdown",
     "checksum": "d28727ad46c91933f13ddb741c7f9a56",
     "grade": false,
     "grade_id": "cell-0ec0975838c8ad5d",
     "locked": true,
     "schema_version": 3,
     "solution": false,
     "task": false
    }
   },
   "source": [
    "# <p style=\"text-align: center;\"> Projet 1 modélisation  <br> Courbes et sous courbes de Bézier, courbes de Bézier rationnelles\n",
    "</p>"
   ]
  },
  {
   "cell_type": "markdown",
   "metadata": {
    "deletable": false,
    "editable": false,
    "nbgrader": {
     "cell_type": "markdown",
     "checksum": "dd80d335eb347fab097d35ec82904b3e",
     "grade": false,
     "grade_id": "cell-32ed3742a5c58bdd",
     "locked": true,
     "schema_version": 3,
     "solution": false,
     "task": false
    }
   },
   "source": [
    "## <span style=\"color:red\">  **Consignes générales :** </span>\n",
    "1. Lire attentivement le sujet\n",
    "2. les structures de données ainsi que  les entrées et sorties des méthodes demandées (et leur type) sont **imposées**. Il ne faut pas les modifier\n",
    "3. Pour qu'une cellule de code soit prise en compte elle doit être executée.\n",
    "4. Ne **pas ajouter ou effacer de cellule**. Si, néanmoins, vous ajoutez  une cellule pour des tests, il faudra la supprimer avant de déposer votre notebook. Il est cependant préférable de faire vos test sur un autre notebook (ou ide, etc).\n",
    "5. Si vous faites une modification dans une cellule, il faut \"l'executer\" pour qu'elle soit prise en compte.\n",
    "6. Des tests de validation de certaines méthodes sont proposés, il est nécessaire de les passer mais pas suffisant !\n",
    "7. Vous pouvez utiliser, en les adaptant,  les  méthodes obtenues durant les séances de tp.\n",
    "8. Dans la cellule ci-dessous, vous pouvez ajouter les fonctions des tp précédents et dont vous avez besoin (**Bernstein**, etc).\n",
    "9. Enfin lors du dépot sur moodle, **ne pas modifier le nom du fichier.**"
   ]
  },
  {
   "cell_type": "markdown",
   "metadata": {
    "deletable": false,
    "editable": false,
    "nbgrader": {
     "cell_type": "markdown",
     "checksum": "9e40c0c5dad4877169afccd4963afc20",
     "grade": false,
     "grade_id": "cell-53178b303c0a876a",
     "locked": true,
     "schema_version": 3,
     "solution": false,
     "task": false
    }
   },
   "source": [
    "### <ins> Avec les polynômes de Bernstein </ins>\n",
    "\n",
    "Pour $n+1$ points de contrôle $(\\mathbf{P}_0, \\dots, \\mathbf{P}_n)$, on définit la courbe de Bézier   \n",
    "$$\\sum_{i=0}^n B_i^n(t)\\mathbf{P}_i, \\quad t \\in[0,1] $$ \n",
    "où les $B_i^n$ sont les polynômes de Bernstein.  \n",
    "La suite des points $\\mathbf{P}_0, \\dots, \\mathbf{P}_n$ forme le polygone de contrôle.  \n",
    "Les $n+1$ polynômes de Bernstein sont donnés par\n",
    "$$\n",
    "B_i^n(u) = \\begin{pmatrix} n \\\\ i \\end{pmatrix} u^i \\left( 1-u \\right)^{n-i} $$"
   ]
  },
  {
   "cell_type": "markdown",
   "metadata": {},
   "source": [
    "Ecrire une fonction qui calcule le polynôme de Bernstein $B_i^n(t)$ pour $p$ valeurs de $t$  \n",
    "On pourra obtenir les coefficients binomiaux on utilisant le module **math**, par exemple pour $\\begin{pmatrix} n \\\\ i \\end{pmatrix}$, on écrira \n",
    "```python\n",
    "from math import comb\n",
    "comb(n,i)\n",
    "```"
   ]
  },
  {
   "cell_type": "code",
   "execution_count": 34,
   "metadata": {
    "deletable": false,
    "nbgrader": {
     "cell_type": "code",
     "checksum": "a518dda399d0d6f791c56a92f9414b16",
     "grade": false,
     "grade_id": "cell-c6c6c2b57ab7a4ba",
     "locked": false,
     "schema_version": 3,
     "solution": true,
     "task": false
    }
   },
   "outputs": [],
   "source": [
    "%matplotlib ipympl\n",
    "\n",
    "import numpy as np\n",
    "import matplotlib.pyplot as plt\n",
    "from math import comb,pi\n",
    "\n",
    "def onclick(event):\n",
    "    PtContX.append(event.xdata)\n",
    "    PtContY.append(event.ydata)\n",
    "    if event.button ==3:\n",
    "        ax1.plot(PtContX,PtContY,'ro--')\n",
    "        plt.disconnect(cid)\n",
    "        N=len(PtContX)\n",
    "        c=Bezier(np.array([PtContX,PtContY]),200) \n",
    "        # Votre code ici\n",
    "        if(N >= 2):\n",
    "            ax1.plot(c[0], c[1], 'b') \n",
    "            partition_unit(N)\n",
    "\n",
    "\n",
    "    ax1.plot(PtContX,PtContY,'ro--') \n",
    "\n",
    "\n",
    "def Bernstein(n,k,t):\n",
    "    # Votre code ici\n",
    "    return comb(n, k) * (t**k) * ((1 - t)**(n - k))"
   ]
  },
  {
   "cell_type": "markdown",
   "metadata": {
    "deletable": false,
    "editable": false,
    "nbgrader": {
     "cell_type": "markdown",
     "checksum": "5156ede129452fc3ae50f7425eb31d69",
     "grade": false,
     "grade_id": "cell-33e9bf226b3d698a",
     "locked": true,
     "schema_version": 3,
     "solution": false,
     "task": false
    }
   },
   "source": [
    "### Partition de l'unité\n",
    "Tracer sur une même figure les  polynômes  de Bernstein $ B_i^n, \\; 0 \\leq i \\leq n $, puis tracer, sur la même figure leur somme $S= \\sum_{i=0}^n  B_i^n$.  "
   ]
  },
  {
   "cell_type": "code",
   "execution_count": null,
   "metadata": {
    "deletable": false,
    "nbgrader": {
     "cell_type": "code",
     "checksum": "722644fbbf2ccfade33b89cde4777d55",
     "grade": true,
     "grade_id": "cell-f2a6c78ebc25c724",
     "locked": false,
     "points": 2,
     "schema_version": 3,
     "solution": true,
     "task": false
    }
   },
   "outputs": [],
   "source": [
    "def partition_unit(n):\n",
    "    \"\"\" On vérifie graphiquement que les polynômes de Bernstein\n",
    "        de degré n forment une partition de l'unité \"\"\"\n",
    "    # Votre code ici\n",
    "    t = np.linspace(0, 1, 500) \n",
    "\n",
    "    sumBernstein = np.zeros_like(t)\n",
    "    for k in range(n + 1):\n",
    "        Bk = Bernstein(n, k, t)\n",
    "        sumBernstein += Bk\n",
    "        ax2.plot(t, Bk, label=f'$B{k}^{n}(t)$')\n",
    "\n",
    "    ax2.plot(t, sumBernstein, 'k--', label='$S = \\sum{k=0}^n B_k^n$', linewidth=2)\n",
    "\n",
    "    ax2.set_title(f'Polynômes de Bernstein')\n",
    "    ax2.set_xlabel('$t$')\n",
    "    ax2.set_ylabel('$B_k^n(t)$')\n",
    "    ax2.legend()\n",
    "    ax2.grid()\n"
   ]
  },
  {
   "attachments": {
    "image-2.png": {
     "image/png": "[encoded data removed]"
    }
   },
   "cell_type": "markdown",
   "metadata": {
    "deletable": false,
    "nbgrader": {
     "cell_type": "markdown",
     "checksum": "544184bc5a5c0c230c0080244be2bbd2",
     "grade": true,
     "grade_id": "cell-282c450edbfa84b2",
     "locked": false,
     "points": 2,
     "schema_version": 3,
     "solution": true,
     "task": false
    }
   },
   "source": [
    "YOUR ANSWER HERE\n",
    "\n",
    "![image-2.png](attachment:image-2.png)"
   ]
  },
  {
   "cell_type": "markdown",
   "metadata": {
    "deletable": false,
    "editable": false,
    "nbgrader": {
     "cell_type": "markdown",
     "checksum": "db3262d33c3e4c696fba8254e003628b",
     "grade": false,
     "grade_id": "cell-71cedd981b481012",
     "locked": true,
     "schema_version": 3,
     "solution": false,
     "task": false
    }
   },
   "source": [
    "Ecrire une fonction qui calcule en $p$ valeurs de $t$ (par défaut 200 valeurs uniformément répartis entre 0 et 1) la courbe de Bézier,  $ {\\cal B}^{n}$.\n",
    "Les points de contrôle sont passés en paramètres sous  la forme d'un array numpy."
   ]
  },
  {
   "cell_type": "code",
   "execution_count": 36,
   "metadata": {
    "deletable": false,
    "nbgrader": {
     "cell_type": "code",
     "checksum": "7f7058f11a59641d4a2b50bd588596d2",
     "grade": true,
     "grade_id": "cell-c20f00ef3360f80e",
     "locked": false,
     "points": 2,
     "schema_version": 3,
     "solution": true,
     "task": false
    }
   },
   "outputs": [],
   "source": [
    "def Bezier(points, num=200):\n",
    "    \"\"\"Courbe de Bézier associée aux points de contrôle\n",
    "       passés en paramètre d'entrée.\n",
    "    \"\"\"\n",
    "    # Votre code ici\n",
    "    n = len(points[0]) - 1\n",
    "    t = np.linspace(0, 1, num)\n",
    "    courbe = np.zeros((2, num))\n",
    "\n",
    "    for i in range(n + 1):\n",
    "        Bi = Bernstein(n, i, t)\n",
    "        courbe[0] += points[0][i] * Bi\n",
    "        courbe[1] += points[1][i] * Bi\n",
    "\n",
    "    return courbe\n"
   ]
  },
  {
   "cell_type": "markdown",
   "metadata": {
    "deletable": false,
    "editable": false,
    "nbgrader": {
     "cell_type": "markdown",
     "checksum": "f27595b9919ee862be7184a612eba1fe",
     "grade": false,
     "grade_id": "cell-5a14dae15def7c86",
     "locked": true,
     "schema_version": 3,
     "solution": false,
     "task": false
    }
   },
   "source": [
    "Enfin, tracer sur la **même fenêtre graphique** d'un coté la courbe de Bézier correspondant à des points de contrôle obtenus à la souris, et d'un autre coté les polynômes de Bernstein associés (leur nombre dépendra donc du nombre de points de contrôle).  \n",
    "On utilisera pour cela `subplot` :\n",
    "```python\n",
    "fig = plt.figure()        # On crée la fenêtre graphique\n",
    "ax = fig.add_subplot(121) # On crée la sous-figure  \n",
    "ax.set_xlim([0, 5])       # On fixe la taille de la sous-figure\n",
    "ax.set_ylim([0, 5])       # pour éviter son reimensionnement après \n",
    "                          # les clics de souris\n",
    "```"
   ]
  },
  {
   "cell_type": "code",
   "execution_count": null,
   "metadata": {
    "deletable": false,
    "editable": false,
    "nbgrader": {
     "cell_type": "code",
     "checksum": "7d86142ed87b02c663b8a86a6a221f6e",
     "grade": false,
     "grade_id": "cell-0077d6514c91186b",
     "locked": true,
     "schema_version": 3,
     "solution": false,
     "task": false
    }
   },
   "outputs": [],
   "source": [
    "fig = plt.figure()\n",
    "\n",
    "ax1 = fig.add_subplot(121)\n",
    "ax2 = fig.add_subplot(122)\n",
    "fig.subplots_adjust(wspace=0.4)\n",
    "ax1.set_xlim([0, 5])\n",
    "ax1.set_ylim([0, 5])\n",
    "PtContX=[]\n",
    "PtContY=[]\n",
    "\n",
    "cid = fig.canvas.mpl_connect('button_press_event', onclick)\n",
    "\"\"\" Attention on ne fait que l'acquisition des points dans cette cellule\n",
    "    les courbes s'obtiennent en exécutant la cellule suivante.\n",
    "    Ce n'est pas très intuitif, d'où la remarque ci-dessous (modification de\n",
    "    la fonction onclick).\n",
    "    Laissé à l'appréciation de l'étudiant.\n",
    "\"\"\""
   ]
  },
  {
   "cell_type": "code",
   "execution_count": 38,
   "metadata": {
    "deletable": false,
    "nbgrader": {
     "cell_type": "code",
     "checksum": "a1ce8d668c20d39ea3ed9ef298ba3f1f",
     "grade": true,
     "grade_id": "cell-533ea34dcf7024b0",
     "locked": false,
     "points": 2,
     "schema_version": 3,
     "solution": true,
     "task": false
    }
   },
   "outputs": [],
   "source": [
    "\"\"\" Remarque : on peut également modifier la fonction onclick et ajouter les commandes\n",
    "ci-dessous lors du clic droit (après la déconnexion à la figure : plt.disconnect).\n",
    "On obtiendra alors le tracé des courbes juste après le dernier clic. \n",
    "\"\"\"\n",
    "N=len(PtContX)\n",
    "c=Bezier(np.array([PtContX,PtContY])) \n",
    "# Votre code ici\n",
    "if(N >= 2 ):\n",
    "    ax1.clear()\n",
    "    ax1.plot(c[0], c[1],'b')\n",
    "    "
   ]
  },
  {
   "cell_type": "markdown",
   "metadata": {
    "deletable": false,
    "editable": false,
    "nbgrader": {
     "cell_type": "markdown",
     "checksum": "2a4b63f9a062988d07bd4266062f853a",
     "grade": false,
     "grade_id": "cell-3910a435bbf0f4d5",
     "locked": true,
     "schema_version": 3,
     "solution": false,
     "task": false
    }
   },
   "source": [
    "### Sous-courbes de Bézier\n",
    "\n",
    "On souhaite découper une courbe de Bézier, ${\\cal B}^{n}$, de degré $n$ en deux morceaux ${\\cal C}^{n}$ et ${\\cal D}^{n}$. Chaque morceau sera une courbe de Bézier de même degré $n$.  \n",
    "La courbe de Bézier ${\\cal B}^{n}$ est déterminée par les $n+1$ points de contrôle $P_0, P_1,\\ldots,P_n$.  \n",
    "Soit $B(t_0)$ le point de la courbe de Bézier  ${\\cal B}^{n}$ où l'on souhaite ``découper''. On va démontrer **numériquement** que les $n+1$ points de contrôle de chaque morceau sont donnés par l'algorithme de De Casteljau. "
   ]
  },
  {
   "cell_type": "markdown",
   "metadata": {
    "deletable": false,
    "editable": false,
    "nbgrader": {
     "cell_type": "markdown",
     "checksum": "d9ed582e74749273b950359e2c76fb0e",
     "grade": false,
     "grade_id": "cell-460f12b34804db68",
     "locked": true,
     "schema_version": 3,
     "solution": false,
     "task": false
    }
   },
   "source": [
    "<div>\n",
    "<img src=\"Principe_algorithme_de_casteljau.png-1.png\" width=\"420\"/>\n",
    "</div>"
   ]
  },
  {
   "cell_type": "markdown",
   "metadata": {
    "deletable": false,
    "editable": false,
    "nbgrader": {
     "cell_type": "markdown",
     "checksum": "346564e31e35c099b73c32e0442bcc04",
     "grade": false,
     "grade_id": "cell-286f22a5f5fee5f8",
     "locked": true,
     "schema_version": 3,
     "solution": false,
     "task": false
    }
   },
   "source": [
    "Ecrire une fonction  **DeCasteljau(P,t0)**, prenant en paramètres d'entrées $n+1$ points et un scalaire $t_0 \\in [0,1]$ et qui renvoie le point $P_{t_0}$  de la courbe de Bézier de paramètre $t_0$"
   ]
  },
  {
   "cell_type": "code",
   "execution_count": 39,
   "metadata": {
    "deletable": false,
    "nbgrader": {
     "cell_type": "code",
     "checksum": "6be801fd4869fd6c2700bd6e1d5b8ddd",
     "grade": true,
     "grade_id": "cell-4be59392e72e5747",
     "locked": false,
     "points": 1,
     "schema_version": 3,
     "solution": true,
     "task": false
    }
   },
   "outputs": [],
   "source": [
    "def DeCasteljau(P,t0):\n",
    "    \"\"\"P est un array (2,n+1) formé des coordonnées des\n",
    "        points de contrôle. t0 est le paramètre.\n",
    "        La fonction renvoie le point P0 de la courbe de Bézier correspondant\n",
    "        au paramètre t0 sous la forme d'un array à deux lignes et une colonne.\n",
    "    \"\"\"\n",
    "    # Votre code ici\n",
    "    n = P.shape[1] - 1\n",
    "    Pt = P.copy()\n",
    "\n",
    "    for r in range(1, n + 1):\n",
    "        for i in range(n - r + 1):\n",
    "            Pt[:, i] = (1 - t0) * Pt[:, i] + t0 * Pt[:, i + 1]\n",
    "\n",
    "    P0 = Pt[:, 0].reshape(2, 1)\n",
    "    return P0"
   ]
  },
  {
   "cell_type": "code",
   "execution_count": 40,
   "metadata": {
    "deletable": false,
    "editable": false,
    "nbgrader": {
     "cell_type": "code",
     "checksum": "1d4b856fa7ce89db46cc45b9cd2dc276",
     "grade": true,
     "grade_id": "cell-83c598293f97ba71",
     "locked": true,
     "points": 2,
     "schema_version": 3,
     "solution": false,
     "task": false
    }
   },
   "outputs": [],
   "source": [
    "\"\"\"Vérifiez vos résultats sur les tests suivants\"\"\"\n",
    "Px=[1.1129942247944489, 0.8468651925363844, 3.2662200312460614, 4.209768418342835]\n",
    "Py=[0.3947177903476734, 1.382271902901786, 1.8828130284429112, 0.6517524223823054]\n",
    "\n",
    "assert all(np.round(DeCasteljau(np.array([Px,Py]),0.3),4) == np.array([[1.4862],[1.1184]]))\n"
   ]
  },
  {
   "cell_type": "markdown",
   "metadata": {
    "deletable": false,
    "editable": false,
    "nbgrader": {
     "cell_type": "markdown",
     "checksum": "4a9dac7c83af63ecae684b22af27887e",
     "grade": false,
     "grade_id": "cell-2c78c1dd2166a3bd",
     "locked": true,
     "schema_version": 3,
     "solution": false,
     "task": false
    }
   },
   "source": [
    "Modifier la fonction précédente pour qu'elle renvoie le point $P_{t_0}$  de la courbe de Bézier de paramètre $t_0$ ainsi que deux tableaux numpy, $P_1, P_2$ de $n+1$ points constitués des points intermédiaires qui ont servi au calcul du  point de paramètre $t_0$ par l'algorithme de De Casteljau.  \n",
    "Le premier tableau, $P_1$, est formé du premier point de contrôle et des **premiers** points de chaque étape de l'algorithme de De Casteljau. Le deuxième, $P_2$ est formé du dernier point de contrôle et des **derniers** points de chaque étape de l'algorithme de De Casteljau mais ordonné dans le sens inverse (voir exemple ci-dessous).  \n",
    "Reprenons l'exemple de la figure ci-dessus, on obtiendra ainsi\n",
    "$$ P_1=\\{P_0^0, P_0^1, P_0^2,P_0^3  \\} \\; \\text{et} \\; P_2=\\{P_0^3,P_1^2,P_2^1,P_3^0 \\}  $$"
   ]
  },
  {
   "cell_type": "code",
   "execution_count": 41,
   "metadata": {
    "deletable": false,
    "nbgrader": {
     "cell_type": "code",
     "checksum": "a3969b1b99c99e832ea16b87f0bbd925",
     "grade": true,
     "grade_id": "cell-eb9a04ba748b7c57",
     "locked": false,
     "points": 2,
     "schema_version": 3,
     "solution": true,
     "task": false
    }
   },
   "outputs": [],
   "source": [
    "def DeCasteljau2(P,t0):\n",
    "    \"\"\"P est un array (2,n+1)  formé des coordonnées des\n",
    "        points de contrôle. t0 est le paramètre.\n",
    "        La fonction renvoie le point P0 de la courbe de Bézier correspondant\n",
    "        au paramètre t0 ainsi que les deux array P1 et P2 (coordonnées de points) décrits\n",
    "        précédemment, chacun de ces tableaux est de dimension (2,n+1).\n",
    "        On gérera les exceptions avec \"raise ValueError()\" (si le paramètre t0 n'appartient pas à ]0;1[)\n",
    "    \"\"\"\n",
    "    # Votre code ici\n",
    "    n = P.shape[1] - 1\n",
    "    Pt = P.copy()\n",
    "\n",
    "    P1 = np.zeros((2, n + 1))\n",
    "    P2 = np.zeros((2, n + 1))\n",
    "    \n",
    "    P1[:, 0] = Pt[:, 0]\n",
    "    P2[:, n] = Pt[:, n]\n",
    "    \n",
    "    for r in range(1, n + 1):\n",
    "        for i in range(n - r + 1):\n",
    "            Pt[:, i] = (1 - t0) * Pt[:, i] + t0 * Pt[:, i + 1]\n",
    "        \n",
    "        P1[:, r] = Pt[:, 0]\n",
    "        P2[:, n - r] = Pt[:, n - r]\n",
    "\n",
    "    P0 = Pt[:, 0].reshape(2, 1)\n",
    "        \n",
    "    return P0,P1,P2 "
   ]
  },
  {
   "cell_type": "code",
   "execution_count": null,
   "metadata": {
    "deletable": false,
    "editable": false,
    "nbgrader": {
     "cell_type": "code",
     "checksum": "c74e7e0f3d5f1921b19f3a8b47f7c489",
     "grade": true,
     "grade_id": "cell-f416c6051bb0da39",
     "locked": true,
     "points": 2,
     "schema_version": 3,
     "solution": false,
     "task": false
    }
   },
   "outputs": [],
   "source": [
    "\"\"\"Vérifiez vos résultats sur les tests suivants\"\"\"\n",
    "np.all(np.round(DeCasteljau2(np.array([Px,Py]),0.3)[0],4) == np.array([[1.4862],[1.1184]]))\n",
    "np.all(np.round(DeCasteljau2(np.array([Px,Py]),0.3)[1],4) == np.array([[1.1130, 1.0332, 1.1950, 1.4862],[0.3947,0.691 , 0.9434, 1.1184]]))"
   ]
  },
  {
   "cell_type": "markdown",
   "metadata": {
    "deletable": false,
    "editable": false,
    "nbgrader": {
     "cell_type": "markdown",
     "checksum": "bdf98c83130f183f9e57dd2d50bfcecf",
     "grade": false,
     "grade_id": "cell-fa9666dc6cffed5e",
     "locked": true,
     "schema_version": 3,
     "solution": false,
     "task": false
    }
   },
   "source": [
    "Dans cette dernière partie, on souhaite faire l'acquisition des points de contrôle à la souris, les représenter sur la figure (ainsi que le polygône de contrôle correspondant) puis tracer sur la même figure la courbes de Bézier associée à ces points ainsi  que les deux sous courbes de Bézier associées (l'utisateur choisira le paramètre de coupure t0).  \n",
    "Vous devriez, au final, avoir une figure semblable à celle ci-dessous."
   ]
  },
  {
   "cell_type": "markdown",
   "metadata": {
    "deletable": false,
    "editable": false,
    "nbgrader": {
     "cell_type": "markdown",
     "checksum": "c8b96a48e8a3e31f183df5801db3ecc5",
     "grade": false,
     "grade_id": "cell-2c143ca12b410b01",
     "locked": true,
     "schema_version": 3,
     "solution": false,
     "task": false
    }
   },
   "source": [
    "<div>\n",
    "<img src=\"SousCourbes.png\" width=\"520\"/>\n",
    "</div>"
   ]
  },
  {
   "cell_type": "code",
   "execution_count": null,
   "metadata": {
    "deletable": false,
    "nbgrader": {
     "cell_type": "code",
     "checksum": "06cbe077855706e5cdfc7e64b4209d62",
     "grade": false,
     "grade_id": "cell-563b4b5ed17527d5",
     "locked": false,
     "schema_version": 3,
     "solution": true,
     "task": false
    }
   },
   "outputs": [],
   "source": [
    "# Acquisition des points de contrôle\n",
    "# Votre code ici\n",
    "def onclick2(event):\n",
    "    PtContX2.append(event.xdata)\n",
    "    PtContY2.append(event.ydata)\n",
    "    if event.button ==3:\n",
    "        ax3.plot(PtContX2,PtContY2,'ro--')\n",
    "        plt.disconnect(cid)\n",
    "        N=len(PtContX2)\n",
    "        # Votre code ici\n",
    "        if(N >= 2 ):\n",
    "            SousCourbes(PtContX2,PtContY2,0.35) \n",
    "\n",
    "    ax3.plot(PtContX2,PtContY2,'ro--') \n",
    "\n",
    "fig2 = plt.figure(figsize=(20, 5))\n",
    "\n",
    "ax3 = fig2.add_subplot(121)\n",
    "fig2.subplots_adjust(wspace=0.4)\n",
    "ax3.set_xlim([0, 5])\n",
    "ax3.set_ylim([0, 5])\n",
    "PtContX2=[]\n",
    "PtContY2=[]\n",
    "\n",
    "cid = fig2.canvas.mpl_connect('button_press_event', onclick2)"
   ]
  },
  {
   "cell_type": "code",
   "execution_count": 44,
   "metadata": {
    "deletable": false,
    "nbgrader": {
     "cell_type": "code",
     "checksum": "123e37096b90005ed16307e11f8eda74",
     "grade": true,
     "grade_id": "cell-fafee4e5971cf70a",
     "locked": false,
     "points": 2,
     "schema_version": 3,
     "solution": true,
     "task": false
    }
   },
   "outputs": [],
   "source": [
    "def SousCourbes(PtContX,PtContY,t0):\n",
    "    \"\"\" Les coordonnées des points de contrôle sont donnés par les listes PtContX et PtContY (ici se sont des\n",
    "    listes (comme dans les tp précédents). Le paramètre du point de découpe est t0.\n",
    "    Toutes les directives de tracé se font dans cette fonction, elle ne retourne donc rien. On l'appelle pour effectuer \n",
    "    les tracés.\n",
    "    \"\"\"\n",
    "    # Votre code ici\n",
    "    P = np.array([PtContX, PtContY])\n",
    "    \n",
    "    courbePrincipale = Bezier(P)\n",
    "    \n",
    "    if (PtContY != [] and PtContX != []):\n",
    "        _, P1, P2 = DeCasteljau2(P, t0)\n",
    "    \n",
    "        sousCourbe1 = Bezier(P1)\n",
    "        sousCourbe2 = Bezier(P2)\n",
    "        \n",
    "        ax3.plot(PtContX, PtContY, 'ro--')\n",
    "        ax3.plot(sousCourbe2[0][0], sousCourbe2[1][0], 'rx', label=\"Point de césure\")\n",
    "        ax3.plot(courbePrincipale[0], courbePrincipale[1], 'b', label='Bézier')\n",
    "        ax3.plot(sousCourbe1[0], sousCourbe1[1], 'orange', label='Sous courbe 1')\n",
    "        ax3.plot(sousCourbe2[0], sousCourbe2[1], 'g', label='Sous courbe 2')\n",
    "        \n",
    "        ax3.set_title('Sous courbes de Bézier')\n",
    "        ax3.legend()\n",
    "        ax3.grid(True)\n",
    "        \n",
    "SousCourbes(PtContX,PtContY,0.35)   "
   ]
  },
  {
   "cell_type": "markdown",
   "metadata": {
    "deletable": false,
    "editable": false,
    "nbgrader": {
     "cell_type": "markdown",
     "checksum": "54b82aabdb698bd454d7507184c7301f",
     "grade": false,
     "grade_id": "cell-0cb9fc53fdddf86b",
     "locked": true,
     "schema_version": 3,
     "solution": false,
     "task": false
    }
   },
   "source": [
    "### Bézier rationnelles\n",
    "  \n",
    "\n",
    "Dans cette partie on s'interesse aux courbes de Bézier rationnelles, $ {\\cal B}^{n}$.  \n",
    "L'idée est d'ajouter des poids, $\\omega_i$, aux points de contrôle $P_i$.  \n",
    "\n",
    "Pour $n+1$ points de contrôle $(\\mathbf{P}_0, \\dots, \\mathbf{P}_n)$, et $n+1$ poids $\\omega_i, i\\in\\{0,\\ldots,n\\}$ **non tous nuls**, on définit la courbe de Bézier rationnelle  \n",
    "$$B_r(t)=\\displaystyle \\frac{\\displaystyle\\sum_{i=0}^n B_i^n(t) \\omega_i \\mathbf{P}_i }{\\displaystyle\\sum_{i=0}^n B_i^n(t) \\omega_i } , \\quad t \\in[0,1] $$  \n",
    "où les $B_i^n$ sont les polynômes de Bernstein et la suite des points $\\mathbf{P}_0, \\dots, \\mathbf{P}_n$ forme le polygone de contrôle."
   ]
  },
  {
   "cell_type": "markdown",
   "metadata": {
    "deletable": false,
    "editable": false,
    "nbgrader": {
     "cell_type": "markdown",
     "checksum": "5a76532e299dc13feb2982b84427bbc1",
     "grade": false,
     "grade_id": "cell-e88d70d8e03ffba8",
     "locked": true,
     "schema_version": 3,
     "solution": false,
     "task": false
    }
   },
   "source": [
    "Que se passe t'il si tous les poids sont égaux, quelle courbe obtient-on ?  \n",
    "Justifiez brièvement (mais clairement) votre réponse dans la cellule ci-dessus."
   ]
  },
  {
   "cell_type": "markdown",
   "metadata": {
    "deletable": false,
    "nbgrader": {
     "cell_type": "markdown",
     "checksum": "bfb58669f93a79e237b2826cd7e4094f",
     "grade": true,
     "grade_id": "cell-0b47816484bd146e",
     "locked": false,
     "points": 2,
     "schema_version": 3,
     "solution": true,
     "task": false
    }
   },
   "source": [
    "YOUR ANSWER HERE\n",
    "\n",
    "Si tous les poids sont égaux, la courbe de Bézier rationnelle obtenue est équivalente à une courbe de Bézier classique.\n",
    "En effet, les poids égaux se simplifient lors du calcul, et la courbe résultante ne dépend que des points de contrôle."
   ]
  },
  {
   "cell_type": "markdown",
   "metadata": {
    "deletable": false,
    "editable": false,
    "nbgrader": {
     "cell_type": "markdown",
     "checksum": "0ef7a580bfe43233beeb04edbcbec82c",
     "grade": false,
     "grade_id": "cell-416630b5f5ece1a0",
     "locked": true,
     "schema_version": 3,
     "solution": false,
     "task": false
    }
   },
   "source": [
    "Ecrire une fonction qui prend en paramètre d'entrée les points de contrôle (sous forme d'un **tableau numpy** à 2 lignes et n+1 colonnes, une **liste** de n+1 poids ainsi qu'un paramètre $t \\in [0,1]$ et qui renvoie le point de la courbe de Bézier rationnelle correspondant à $t$.   "
   ]
  },
  {
   "cell_type": "code",
   "execution_count": 45,
   "metadata": {
    "deletable": false,
    "nbgrader": {
     "cell_type": "code",
     "checksum": "d704fd8dfb3844833a899c567ecaf458",
     "grade": true,
     "grade_id": "cell-3fc2a6f05c23d523",
     "locked": false,
     "points": 2,
     "schema_version": 3,
     "solution": true,
     "task": false
    }
   },
   "outputs": [],
   "source": [
    "def BezierRat(Pc,L,t):\n",
    "    \"\"\"Courbe de Bézier rationnelle associée aux points de contrôle Pc\n",
    "       passés en paramètre d'entrée, une liste L de poids et un\n",
    "       paramètre t.\n",
    "       La fonction renvoie le point Pt de la courbe correpondant au paramètre t\n",
    "       On gérera une exception si tous les poids sont nuls (raise ValueError())\n",
    "    \"\"\"\n",
    "    # Votre code ici\n",
    "    n = len(L) - 1\n",
    "    if all(weight == 0 for weight in L):\n",
    "        raise ValueError(\"Tous les poids sont à 0 !!!\")\n",
    "\n",
    "    numerateur = np.zeros(2)\n",
    "    denominateur = 0\n",
    "    for i in range(n + 1):\n",
    "        Bi = Bernstein(n, i, t)\n",
    "        numerateur += L[i] * Bi * Pc[:, i]\n",
    "        denominateur += L[i] * Bi\n",
    "\n",
    "    Pt = numerateur / denominateur\n",
    "    return Pt"
   ]
  },
  {
   "cell_type": "code",
   "execution_count": null,
   "metadata": {
    "deletable": false,
    "editable": false,
    "nbgrader": {
     "cell_type": "code",
     "checksum": "316c01e6ce853ad600e4e9be737f2779",
     "grade": true,
     "grade_id": "cell-29b0063a69709eac",
     "locked": true,
     "points": 2,
     "schema_version": 3,
     "solution": false,
     "task": false
    }
   },
   "outputs": [],
   "source": [
    "\"\"\"Vérifiez vos résultats sur les tests suivants\"\"\"\n",
    "np.all(np.round(BezierRat(np.array([Px,Py]),[4,4,4,4],0.5),4)==np.array([[2.2078],[1.3552]]))\n"
   ]
  },
  {
   "cell_type": "markdown",
   "metadata": {
    "deletable": false,
    "editable": false,
    "nbgrader": {
     "cell_type": "markdown",
     "checksum": "8ecf8fe69a97e9c4f527fb8f9b839f78",
     "grade": false,
     "grade_id": "cell-299d72c86266623e",
     "locked": true,
     "schema_version": 3,
     "solution": false,
     "task": false
    }
   },
   "source": [
    "Modifier la fonction précédente pour pouvoir passer un vecteur de paramètres (t = np.linspace(0,1,100) par exemple). "
   ]
  },
  {
   "cell_type": "code",
   "execution_count": 47,
   "metadata": {
    "deletable": false,
    "nbgrader": {
     "cell_type": "code",
     "checksum": "1358d1a0393a47b6e67e46861bfc4b35",
     "grade": true,
     "grade_id": "cell-41f36fbb48321263",
     "locked": false,
     "points": 2,
     "schema_version": 3,
     "solution": true,
     "task": false
    }
   },
   "outputs": [],
   "source": [
    "def BezierRatVect(Pc,L,t):\n",
    "    \"\"\"Courbe de Bézier rationnelle associée aux points de contrôle Pc\n",
    "       passés en paramètre d'entrée, une liste L de poids et un vecteur\n",
    "       de paramètre t.\n",
    "       La fonction renvoie les points Pts de la courbe correpondant aux paramètres t\n",
    "       On gérera une exception si tous les poids sont nuls (raise ValueError())\n",
    "    \"\"\"\n",
    "    # Votre code ici\n",
    "    n = len(L) - 1\n",
    "    if all(weight == 0 for weight in L):\n",
    "        raise ValueError(\"Tous les poids sont à zéro !!\")\n",
    "\n",
    "    Pts = np.zeros((2, len(t)))\n",
    "    for j, tj in enumerate(t):\n",
    "        numerateur = np.zeros(2)\n",
    "        denominateur = 0\n",
    "        for i in range(n + 1):\n",
    "            Bi = Bernstein(n, i, tj)\n",
    "            numerateur += L[i] * Bi * Pc[:, i]\n",
    "            denominateur += L[i] * Bi\n",
    "        Pts[:, j] = numerateur / denominateur\n",
    "    return Pts"
   ]
  },
  {
   "cell_type": "code",
   "execution_count": null,
   "metadata": {
    "deletable": false,
    "editable": false,
    "nbgrader": {
     "cell_type": "code",
     "checksum": "ef4b91a359b3a13c29cd54d65df7957b",
     "grade": true,
     "grade_id": "cell-a0c8923a16f8506f",
     "locked": true,
     "points": 2,
     "schema_version": 3,
     "solution": false,
     "task": false
    }
   },
   "outputs": [],
   "source": [
    "\"\"\"Vérifiez vos résultats sur les tests suivants\"\"\"\n",
    "np.all(np.round(BezierRatVect(np.array([Px,Py]),[4,4,4,4],np.linspace(0,1,6)),4)==np.array([[1.113 , 1.2423, 1.8163, 2.6354, 3.4998, 4.2098],\n",
    "[0.3947, 0.9189, 1.2664, 1.3775, 1.1926, 0.6518]]))\n"
   ]
  },
  {
   "cell_type": "markdown",
   "metadata": {
    "deletable": false,
    "editable": false,
    "nbgrader": {
     "cell_type": "markdown",
     "checksum": "b56c82a4c4bf1c8dd3fa6469ec60a44e",
     "grade": false,
     "grade_id": "cell-7ce6ff0c0fee79ed",
     "locked": true,
     "schema_version": 3,
     "solution": false,
     "task": false
    }
   },
   "source": [
    "Ecrire une fonction qui prend comme paramètre d'entrée les points de contrôle (sous forme d'un tableau numpy) ainsi qu'une liste, L,  de poids et qui trace sur une même figure les points de contrôle, le polygone de contrôle et la courbe de Bézier rationnelle (cubique) associée à ces points et ces poids. "
   ]
  },
  {
   "cell_type": "code",
   "execution_count": null,
   "metadata": {
    "deletable": false,
    "nbgrader": {
     "cell_type": "code",
     "checksum": "56d041950a5e70ee2a77e384e98744fe",
     "grade": true,
     "grade_id": "cell-876e6e0dbde7c859",
     "locked": false,
     "points": 2,
     "schema_version": 3,
     "solution": true,
     "task": false
    }
   },
   "outputs": [],
   "source": [
    "def TraceBezRat(Pc,L):\n",
    "    \"\"\" Pc est un array numpy de dimension(2,n+1) (abscisses et ordonnées des points de contrôle) et L la liste des poids.\n",
    "        La fonction ne renvoie rien.\n",
    "        \"\"\"\n",
    "    t=np.linspace(0,1,100)\n",
    "    # Votre code ici\n",
    "    Pts = BezierRatVect(Pc, L, t)\n",
    "\n",
    "    plt.figure(figsize=(8, 6))\n",
    "    plt.plot(Pc[0, :], Pc[1, :], 'ro--')\n",
    "    plt.plot(Pts[0, :], Pts[1, :], 'b-', label='Bézier de Poids = '+ str(L))\n",
    "    plt.title('Courbe de Bézier rationnelle')\n",
    "    plt.axis('equal')\n",
    "    plt.legend()\n",
    "    plt.grid(True)\n",
    "    plt.show()\n",
    "\n",
    "\n",
    "TraceBezRat(np.array([Px,Py]),[0.5,4,3,0.7])"
   ]
  },
  {
   "cell_type": "markdown",
   "metadata": {
    "deletable": false,
    "editable": false,
    "nbgrader": {
     "cell_type": "markdown",
     "checksum": "af3131726a891f4b762949e7cc29b579",
     "grade": false,
     "grade_id": "cell-f3843b9d58354a13",
     "locked": true,
     "schema_version": 3,
     "solution": false,
     "task": false
    }
   },
   "source": [
    "En appelant TraceBezRat(np.array([Px,Py]),[0.5,4,3,0.7]) Vous devriez obtenir la figure ci-dessous"
   ]
  },
  {
   "cell_type": "markdown",
   "metadata": {
    "deletable": false,
    "editable": false,
    "nbgrader": {
     "cell_type": "markdown",
     "checksum": "0bb4cd744b028cd3c475efc1efccb7d5",
     "grade": false,
     "grade_id": "cell-5bdb2181616f309f",
     "locked": true,
     "schema_version": 3,
     "solution": false,
     "task": false
    }
   },
   "source": [
    "<div>\n",
    "<img src=\"BezierRat.png\" width=\"520\"/>\n",
    "</div>"
   ]
  },
  {
   "cell_type": "markdown",
   "metadata": {
    "deletable": false,
    "editable": false,
    "nbgrader": {
     "cell_type": "markdown",
     "checksum": "cfd327adc2a81851f445442198c65bb0",
     "grade": false,
     "grade_id": "cell-f5114b236095a577",
     "locked": true,
     "schema_version": 3,
     "solution": false,
     "task": false
    }
   },
   "source": [
    "En déduire, en faisant quelques tests, l'effet des poids sur la courbe. Expliquer bièvement dans la cellule ci-dessous."
   ]
  },
  {
   "cell_type": "markdown",
   "metadata": {
    "deletable": false,
    "nbgrader": {
     "cell_type": "markdown",
     "checksum": "19969745d0a00b0347efdfe511a86920",
     "grade": true,
     "grade_id": "cell-b98c2a8c433918bb",
     "locked": false,
     "points": 1,
     "schema_version": 3,
     "solution": true,
     "task": false
    }
   },
   "source": [
    "Votre reponse ici\n",
    "\n",
    "Les poids variés influencent l'importance relative des points de contrôle sur la courbe.\n",
    " - Des poids élevés attirent la courbe vers les points de contrôle correspondants, augmentant leur influence.\n",
    " - Des poids faibles réduisent l'influence des points correspondants, éloignant la courbe de ces points."
   ]
  }
 ],
 "metadata": {
  "kernelspec": {
   "display_name": "Python 3",
   "language": "python",
   "name": "python3"
  },
  "language_info": {
   "codemirror_mode": {
    "name": "ipython",
    "version": 3
   },
   "file_extension": ".py",
   "mimetype": "text/x-python",
   "name": "python",
   "nbconvert_exporter": "python",
   "pygments_lexer": "ipython3",
   "version": "3.12.8"
  }
 },
 "nbformat": 4,
 "nbformat_minor": 4
}
